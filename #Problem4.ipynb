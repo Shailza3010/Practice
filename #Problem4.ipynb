{
 "cells": [
  {
   "cell_type": "code",
   "execution_count": 1,
   "id": "bf478abc",
   "metadata": {},
   "outputs": [],
   "source": [
    "#Given a 2D matrix of characters and a target word, write a function that returns whether the word can be found in the matrix by going left-to-right, or up-to-down.\n",
    "\n",
    "# For example, given the following matrix:\n",
    "\n",
    "m=[['F', 'A', 'C', 'I'],\n",
    " ['O', 'B', 'Q', 'P'],\n",
    " ['A', 'N', 'O', 'B'],\n",
    " ['M', 'A', 'S', 'S']]"
   ]
  },
  {
   "cell_type": "code",
   "execution_count": 10,
   "id": "08cf0578",
   "metadata": {},
   "outputs": [
    {
     "name": "stdout",
     "output_type": "stream",
     "text": [
      "True\n",
      "F\n",
      "O\n",
      "A\n",
      "M\n",
      "A\n",
      "B\n",
      "N\n",
      "A\n",
      "C\n",
      "Q\n",
      "O\n",
      "S\n",
      "I\n",
      "P\n",
      "B\n",
      "S\n"
     ]
    }
   ],
   "source": [
    "l=[]\n",
    "l2=[]\n",
    "vr=len(m)\n",
    "hr=len(m[0])\n",
    "word=\"MASS\"\n",
    "words=\"ABNA\"\n",
    "for i in m:\n",
    "    l.append(\"\".join(i))\n",
    "if word in l:\n",
    "    print(\"True\")\n",
    "else:\n",
    "    print(\"False\")\n",
    "for i in range(0,vr):\n",
    "    l1=[]\n",
    "    for j in range(0,hr):\n",
    "        print(m[j][i])\n",
    "        l1.append(m[j][i])\n",
    "    l2.append(\"\".join(l1))\n",
    "# if words in l2:\n",
    "#     print(\"True\")\n",
    "# else:\n",
    "#     print(\"False\")\n",
    "    \n",
    "        \n",
    "        \n",
    "\n"
   ]
  },
  {
   "cell_type": "code",
   "execution_count": null,
   "id": "02c37f21",
   "metadata": {},
   "outputs": [],
   "source": []
  }
 ],
 "metadata": {
  "kernelspec": {
   "display_name": "Python 3 (ipykernel)",
   "language": "python",
   "name": "python3"
  },
  "language_info": {
   "codemirror_mode": {
    "name": "ipython",
    "version": 3
   },
   "file_extension": ".py",
   "mimetype": "text/x-python",
   "name": "python",
   "nbconvert_exporter": "python",
   "pygments_lexer": "ipython3",
   "version": "3.10.10"
  }
 },
 "nbformat": 4,
 "nbformat_minor": 5
}

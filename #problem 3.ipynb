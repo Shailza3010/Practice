{
 "cells": [
  {
   "cell_type": "code",
   "execution_count": 33,
   "id": "a360d748",
   "metadata": {},
   "outputs": [],
   "source": [
    "d = {'CSC300': ['CSC100', 'CSC200'], 'CSC200': ['CSC100'], 'CSC100': []}"
   ]
  },
  {
   "cell_type": "code",
   "execution_count": 43,
   "id": "111e76b3",
   "metadata": {},
   "outputs": [],
   "source": [
    "listtt=[]\n",
    "for i in d:\n",
    "    l=len(d[i])\n",
    "    ab=l,i\n",
    "    listtt.append(ab)\n",
    "    \n",
    "    \n",
    "    "
   ]
  },
  {
   "cell_type": "code",
   "execution_count": 45,
   "id": "9d4e27e8",
   "metadata": {},
   "outputs": [],
   "source": [
    "listtt.sort()"
   ]
  },
  {
   "cell_type": "code",
   "execution_count": 51,
   "id": "f21b96b9",
   "metadata": {},
   "outputs": [],
   "source": [
    "final=[]\n",
    "for i in listtt:\n",
    "    final.append(i[1])"
   ]
  },
  {
   "cell_type": "code",
   "execution_count": 52,
   "id": "7eacc664",
   "metadata": {},
   "outputs": [
    {
     "data": {
      "text/plain": [
       "['CSC100', 'CSC200', 'CSC300']"
      ]
     },
     "execution_count": 52,
     "metadata": {},
     "output_type": "execute_result"
    }
   ],
   "source": [
    "final"
   ]
  },
  {
   "cell_type": "code",
   "execution_count": null,
   "id": "c3358e72",
   "metadata": {},
   "outputs": [],
   "source": []
  }
 ],
 "metadata": {
  "kernelspec": {
   "display_name": "Python 3 (ipykernel)",
   "language": "python",
   "name": "python3"
  },
  "language_info": {
   "codemirror_mode": {
    "name": "ipython",
    "version": 3
   },
   "file_extension": ".py",
   "mimetype": "text/x-python",
   "name": "python",
   "nbconvert_exporter": "python",
   "pygments_lexer": "ipython3",
   "version": "3.10.10"
  }
 },
 "nbformat": 4,
 "nbformat_minor": 5
}
